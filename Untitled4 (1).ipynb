{
 "cells": [
  {
   "cell_type": "raw",
   "id": "c68d13e1",
   "metadata": {},
   "source": [
    "1. In the below elements which of them are values or an expression? eg:- values can be integer or string and expressions will be mathematical operators.\n",
    "* \n",
    "'hello'\n",
    "-87.8\n",
    "- \n",
    "/ \n",
    "+\t\n",
    "6 "
   ]
  },
  {
   "cell_type": "raw",
   "id": "329503fa",
   "metadata": {},
   "source": [
    "Expressions: '*', '-', '/', '+'\n",
    "Vlaues: 'hello', '-87.8', '6'"
   ]
  },
  {
   "cell_type": "raw",
   "id": "32592c39",
   "metadata": {},
   "source": [
    "2. What is the difference between string and variable?"
   ]
  },
  {
   "cell_type": "raw",
   "id": "e17905c7",
   "metadata": {},
   "source": [
    "Variables are symbols in which, we store data and we use it in our program.String is the type of data we would store in varialble.by the help of variable, we need not to write entire information again and again, we just assign them with a variable and it would refer us the value as we want.Variables can be both immutable as well as mutable but strings are immutable, its value cannot be updated.String always start and ends with quotes."
   ]
  },
  {
   "cell_type": "raw",
   "id": "ac1209f5",
   "metadata": {},
   "source": [
    "3. Describe three different data types"
   ]
  },
  {
   "cell_type": "raw",
   "id": "c8b6fbb9",
   "metadata": {},
   "source": [
    "Int data type : It is declared with 'int' keword and its a whole number,negative or positive,without decimal numbers.It has no limit of length.\n",
    "Float data type : It is declared with 'float' keword and its a number with decimal points.It stores 64-bit double-precision floating-point numbers with up to 17 significant digits.\n",
    "Boolean data type : It is declared with 'bool' keword and it represents the truth value of an expression."
   ]
  },
  {
   "cell_type": "raw",
   "id": "9c500bb5",
   "metadata": {},
   "source": [
    "4. What is an expression made up of? What do all expressions do?"
   ]
  },
  {
   "cell_type": "raw",
   "id": "e5de6d7a",
   "metadata": {},
   "source": [
    "Expression is a combination of operands and operators.It produces some result after being interpreted by the python interpreter"
   ]
  },
  {
   "cell_type": "raw",
   "id": "a7fa04af",
   "metadata": {},
   "source": [
    "5. This assignment statements, like spam = 10. What is the difference between an expression and a statement?"
   ]
  },
  {
   "cell_type": "raw",
   "id": "7f4c10a3",
   "metadata": {},
   "source": [
    "Statement is group of expression and an expression always produces some value or result but statement is an instruction that the python interpreter can execute.Statement cannot gives you value.Statement are whole structure ,while expression are the building blocks.In above example, 'spam = 10' is statement and '10' is an expression."
   ]
  },
  {
   "cell_type": "raw",
   "id": "133bb2d9",
   "metadata": {},
   "source": [
    "6. After running the following code, what does the variable bacon contain?\n",
    "bacon = 22\n",
    "bacon + 1"
   ]
  },
  {
   "cell_type": "raw",
   "id": "80cf28ee",
   "metadata": {},
   "source": [
    "bacon contain 22 because 'bacon + 1' does not reassign the value in bacon that's why bacon will contain 22."
   ]
  },
  {
   "cell_type": "raw",
   "id": "43b9b3bf",
   "metadata": {},
   "source": [
    "7. What should the values of the following two terms be?\n",
    "'spam' + 'spamspam'\n",
    "'spam' * 3"
   ]
  },
  {
   "cell_type": "raw",
   "id": "aff7357e",
   "metadata": {},
   "source": [
    "'spamspamspam'\n",
    "'spamspamspam'"
   ]
  },
  {
   "cell_type": "code",
   "execution_count": 8,
   "id": "2955043b",
   "metadata": {},
   "outputs": [
    {
     "data": {
      "text/plain": [
       "'spamspamspam'"
      ]
     },
     "execution_count": 8,
     "metadata": {},
     "output_type": "execute_result"
    }
   ],
   "source": [
    "'spam' + 'spamspam'\n",
    "'spam' * 3"
   ]
  },
  {
   "cell_type": "raw",
   "id": "2806dceb",
   "metadata": {},
   "source": [
    "8. Why is eggs a valid variable name while 100 is invalid?"
   ]
  },
  {
   "cell_type": "raw",
   "id": "fda8c7d8",
   "metadata": {},
   "source": [
    "because variable name cannot begin with a number."
   ]
  },
  {
   "cell_type": "raw",
   "id": "25e073ae",
   "metadata": {},
   "source": [
    "9. What three functions can be used to get the integer, floating-point number, or string version of a value?"
   ]
  },
  {
   "cell_type": "raw",
   "id": "c93fc67a",
   "metadata": {},
   "source": [
    "integer = int()\n",
    "floating-point number = float()\n",
    "string = str()"
   ]
  },
  {
   "cell_type": "raw",
   "id": "c1eabbd3",
   "metadata": {},
   "source": [
    "10. Why does this expression cause an error? How can you fix it?\n",
    "'I have eaten ' + 99 + ' burritos.'"
   ]
  },
  {
   "cell_type": "raw",
   "id": "d42b1e70",
   "metadata": {},
   "source": [
    "It shows type error because in the statement there is an integer and string only can convatenated to other strings with + operator, to fix it we convert int to string."
   ]
  },
  {
   "cell_type": "code",
   "execution_count": 19,
   "id": "a4e1e129",
   "metadata": {},
   "outputs": [
    {
     "data": {
      "text/plain": [
       "'I have eaten 99 burritos.'"
      ]
     },
     "execution_count": 19,
     "metadata": {},
     "output_type": "execute_result"
    }
   ],
   "source": [
    "'I have eaten ' + str(99) + ' burritos.'"
   ]
  }
 ],
 "metadata": {
  "kernelspec": {
   "display_name": "Python 3 (ipykernel)",
   "language": "python",
   "name": "python3"
  },
  "language_info": {
   "codemirror_mode": {
    "name": "ipython",
    "version": 3
   },
   "file_extension": ".py",
   "mimetype": "text/x-python",
   "name": "python",
   "nbconvert_exporter": "python",
   "pygments_lexer": "ipython3",
   "version": "3.9.13"
  }
 },
 "nbformat": 4,
 "nbformat_minor": 5
}
